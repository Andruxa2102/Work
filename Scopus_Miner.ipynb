{
 "cells": [
  {
   "cell_type": "code",
   "execution_count": null,
   "metadata": {},
   "outputs": [],
   "source": [
    "import requests\n",
    "import json\n",
    "import pandas as pd\n",
    "from bs4 import BeautifulSoup\n",
    "from fake_useragent import UserAgent\n",
    "import datetime\n",
    "from time import sleep"
   ]
  },
  {
   "cell_type": "code",
   "execution_count": null,
   "metadata": {},
   "outputs": [],
   "source": [
    "KEY = ''\n",
    "PAGE_NOT_FOUND = '<title>\\nScopus preview -  \\nScopus - Page not found\\n</title>'\n",
    "GATEWAY_TIME_OUT = '<title>www.scopus.com | 504: Gateway time-out</title>'\n",
    "BATCH_COUNTER = range(0, 4000, 25)\n",
    "\n",
    "df = pd.DataFrame(columns=('titles', 'pub_dates', 'abstracts', 'author_keywords', 'links'))\n",
    "s = requests.session()"
   ]
  },
  {
   "cell_type": "code",
   "execution_count": null,
   "metadata": {
    "scrolled": true
   },
   "outputs": [],
   "source": [
    "for batch_counter in BATCH_COUNTER:\n",
    "    \n",
    "    while True:\n",
    "        try:\n",
    "            response = s.get('https://api.elsevier.com/content/search/scopus',\n",
    "                             params={'apiKey': KEY,\n",
    "                             'query': 'PUBYEAR = 2011',\n",
    "                             'start': batch_counter})\n",
    "        except requests.exceptions.ConnectionError:\n",
    "            print('Sleep 1 seconds to recieve new batch')\n",
    "            sleep(1)\n",
    "            continue\n",
    "        break\n",
    "        \n",
    "    parsed_dict = json.loads(response.text)\n",
    "\n",
    "    titles = [i['dc:title'] for i in parsed_dict['search-results']['entry']]\n",
    "    pub_dates = [i['prism:coverDate'] for i in parsed_dict['search-results']['entry']]\n",
    "    preview_links = [i['link'][2]['@href'] for i in parsed_dict['search-results']['entry']]\n",
    "\n",
    "    abstracts, author_keywords, pages = [], [], []\n",
    "\n",
    "    for i in preview_links:\n",
    "\n",
    "        while True:\n",
    "            try:\n",
    "                response = s.get(i, headers={'User-Agent': UserAgent().Chrome})\n",
    "            except requests.exceptions.ConnectionError:\n",
    "                print('Sleep 1 second to recieve new article')\n",
    "                sleep(1)\n",
    "                continue\n",
    "            else:\n",
    "                soup = BeautifulSoup(response.content,'html.parser')\n",
    "                if str(soup.find('title')) == PAGE_NOT_FOUND:\n",
    "                    print('Page not found error. Wait 5 seconds')\n",
    "                    sleep(5)\n",
    "                    continue\n",
    "                elif str(soup.find('title')) == GATEWAY_TIME_OUT:\n",
    "                    print('Gateway time-out error. Wait 5 seconds')\n",
    "                    sleep(5)\n",
    "                    continue\n",
    "                else:\n",
    "                    break\n",
    "        \n",
    "        pages.append(soup)\n",
    "        \n",
    "        try:\n",
    "            abstract = soup.find('section', attrs={'class': 'row', 'id': 'abstractSection'})\n",
    "            abstract = abstract.find('p').contents[0]\n",
    "            abstracts.append(abstract)\n",
    "        except:\n",
    "            author_keyword.append('[No abstract available]')\n",
    "\n",
    "        try:\n",
    "            author_keyword = soup.find('section', attrs={'id': 'authorKeywords'})\n",
    "            author_keyword = author_keyword.find_all('span')\n",
    "            author_keyword = [i.contents[0] for i in author_keyword]\n",
    "            author_keywords.append(author_keyword)\n",
    "        except:\n",
    "            author_keywords.append(list(['No keywords available']))\n",
    "\n",
    "    temp_df = pd.DataFrame({'titles': titles, 'pub_dates': pub_dates, 'abstracts': abstracts, \\\n",
    "                            'author_keywords': author_keywords, 'links': preview_links})\n",
    "    df = pd.concat([df, temp_df], axis=0)\n",
    "    \n",
    "    batch_counter += 25\n",
    "    print('batch_counter =', str(batch_counter), ', now =', datetime.datetime.now())\n",
    "\n",
    "print('4000 строк смайнено успешно')"
   ]
  },
  {
   "cell_type": "code",
   "execution_count": null,
   "metadata": {},
   "outputs": [],
   "source": [
    "preview_links"
   ]
  },
  {
   "cell_type": "code",
   "execution_count": null,
   "metadata": {},
   "outputs": [],
   "source": [
    "df = df.reset_index()\n",
    "df = main_df.drop('index', axis=1)"
   ]
  },
  {
   "cell_type": "code",
   "execution_count": null,
   "metadata": {},
   "outputs": [],
   "source": [
    "df.to_parquet('mined.parquet', engine='pyarrow')"
   ]
  },
  {
   "cell_type": "code",
   "execution_count": null,
   "metadata": {},
   "outputs": [],
   "source": []
  }
 ],
 "metadata": {
  "kernelspec": {
   "display_name": "Python 3",
   "language": "python",
   "name": "python3"
  },
  "language_info": {
   "codemirror_mode": {
    "name": "ipython",
    "version": 3
   },
   "file_extension": ".py",
   "mimetype": "text/x-python",
   "name": "python",
   "nbconvert_exporter": "python",
   "pygments_lexer": "ipython3",
   "version": "3.8.5"
  }
 },
 "nbformat": 4,
 "nbformat_minor": 4
}
