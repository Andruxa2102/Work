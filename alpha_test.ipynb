{
 "cells": [
  {
   "cell_type": "code",
   "execution_count": 37,
   "id": "16b9c789-7918-454c-8f9a-0b933c9e83b1",
   "metadata": {},
   "outputs": [],
   "source": [
    "# import yandex API_KEY, Postgre database credentials\n",
    "from creds import *"
   ]
  },
  {
   "cell_type": "code",
   "execution_count": 38,
   "id": "d7fb5c0a-3a39-4ff3-a04c-1422a7c224a3",
   "metadata": {},
   "outputs": [],
   "source": [
    "import requests\n",
    "from json import loads\n",
    "from datetime import datetime"
   ]
  },
  {
   "cell_type": "code",
   "execution_count": 39,
   "id": "3379bec9-c098-47e5-9c89-be80180666f5",
   "metadata": {},
   "outputs": [],
   "source": [
    "HEADERS = {\"X-Yandex-API-Key\": API_KEY}"
   ]
  },
  {
   "cell_type": "code",
   "execution_count": 40,
   "id": "df152366-172c-4210-a5b6-a7f6985caeb8",
   "metadata": {},
   "outputs": [],
   "source": [
    "query = \"\"\"{\n",
    "  Moscow: weatherByPoint(request: { lat: 55.7522, lon: 37.6156 }) {\n",
    "    ...WeatherData\n",
    "  }\n",
    "  Kazan: weatherByPoint(request: { lat: 55.7887, lon: 49.1221 }) {\n",
    "    ...WeatherData\n",
    "  }\n",
    "  SaintPetersburg: weatherByPoint(request: { lat: 59.9386, lon: 30.3141 }) {\n",
    "    ...WeatherData\n",
    "  }\n",
    "  Tula: weatherByPoint(request: { lat: 54.1961, lon: 37.6182 }) {\n",
    "    ...WeatherData\n",
    "  }\n",
    "}\n",
    "\n",
    "fragment WeatherData on Weather {\n",
    "  forecast {\n",
    "    days(limit: 7) {\n",
    "      hours {\n",
    "        time\n",
    "        temperature\n",
    "        pressure\n",
    "        precType\n",
    "      }\n",
    "    }\n",
    "  }\n",
    "}\"\"\""
   ]
  },
  {
   "cell_type": "code",
   "execution_count": 41,
   "id": "f5012fbb-622d-4d18-8b50-a100a4f923a5",
   "metadata": {},
   "outputs": [],
   "source": [
    "response = requests.post('https://api.weather.yandex.ru/graphql/query', headers=HEADERS, json={'query': query})\n",
    "data_dict = loads(response.text)"
   ]
  },
  {
   "cell_type": "code",
   "execution_count": 43,
   "id": "9655dd58-34dc-4827-982b-7d2f6096a36e",
   "metadata": {},
   "outputs": [],
   "source": [
    "to_file = 'city,date,hour,temperature_c,pressure_mm,is_rainy\\n'\n",
    "\n",
    "for cities, i in data_dict.get('data').items():\n",
    "    for days in i.get('forecast').get('days'):\n",
    "        for hours in days.values():\n",
    "            for weather in hours:\n",
    "\n",
    "                # есть еще дождь со снегом - статус 'SLEET'. Не стал его добавлять, так как в условии только дождь\n",
    "                if weather.get('precType') == 'RAIN':\n",
    "                    to_file += (f\"{cities},{datetime.strptime(weather.get('time'), \n",
    "                                                              '%Y-%m-%dT%H:%M:%S+03:00').strftime('%d.%m.%Y,%H')},{weather.get('temperature')},{weather.get('pressure')},1\\n\")\n",
    "                else:\n",
    "                    to_file += (f\"{cities},{datetime.strptime(weather.get('time'), \n",
    "                                                              '%Y-%m-%dT%H:%M:%S+03:00').strftime('%d.%m.%Y,%H')},{weather.get('temperature')},{weather.get('pressure')},0\\n\")"
   ]
  },
  {
   "cell_type": "code",
   "execution_count": 45,
   "id": "bbe223e7-8464-4574-b99c-ffbc028e091e",
   "metadata": {},
   "outputs": [],
   "source": [
    "# Записано в UTF-8\n",
    "with open('../weather.csv', 'w') as f:\n",
    "    f.write(to_file)"
   ]
  },
  {
   "cell_type": "code",
   "execution_count": null,
   "id": "86e34b3e-128a-4634-b569-99830942ff9d",
   "metadata": {},
   "outputs": [],
   "source": []
  },
  {
   "cell_type": "code",
   "execution_count": null,
   "id": "5d9bc75b-b566-4763-b086-24152130a65d",
   "metadata": {},
   "outputs": [],
   "source": []
  },
  {
   "cell_type": "code",
   "execution_count": null,
   "id": "df01f4d1-4a19-457c-af55-9e4263967815",
   "metadata": {},
   "outputs": [],
   "source": []
  },
  {
   "cell_type": "code",
   "execution_count": 2,
   "id": "d1bb6997-74e6-444e-85e1-50ed9e5c106a",
   "metadata": {},
   "outputs": [],
   "source": [
    "from psycopg2 import connect"
   ]
  },
  {
   "cell_type": "code",
   "execution_count": 3,
   "id": "0b52430e-1a3a-4734-87ba-f4b5a2cc5d74",
   "metadata": {},
   "outputs": [],
   "source": [
    "def create_connection() -> connect:\n",
    "\n",
    "    return connect(user=USER, password=PASSW, port=PORT, host=HOST, dbname=DBNAME)"
   ]
  },
  {
   "cell_type": "code",
   "execution_count": 52,
   "id": "517e61b4-eb14-4eab-87a3-c8b149aa4e5b",
   "metadata": {},
   "outputs": [],
   "source": [
    "sql = \"\"\"CREATE SCHEMA IF NOT EXISTS stg;\n",
    "CREATE SCHEMA IF NOT EXISTS dds;\n",
    "CREATE SCHEMA IF NOT EXISTS cdm;\n",
    "\n",
    "CREATE TABLE IF NOT EXISTS dds.weather (\n",
    "    city VARCHAR(15) NOT NULL,\n",
    "    \"date\" DATE,\n",
    "    \"hour\" SMALLINT,\n",
    "    temperature_c SMALLINT,\n",
    "    pressure_mm SMALLINT,\n",
    "    is_rainy BOOLEAN\n",
    ")\n",
    "PARTITION BY RANGE (\"date\");\n",
    "\n",
    "CREATE INDEX IX_weather_date\n",
    "ON dds.weather(\"date\");\n",
    "\n",
    "CREATE TABLE IF NOT EXISTS dds.weather_18 PARTITION OF dds.weather\n",
    "    FOR VALUES FROM ('2024-03-18') TO ('2024-03-19');\n",
    "\n",
    "CREATE TABLE IF NOT EXISTS dds.weather_19 PARTITION OF dds.weather\n",
    "    FOR VALUES FROM ('2024-03-19') TO ('2024-03-20');\n",
    "    \n",
    "CREATE TABLE IF NOT EXISTS dds.weather_20 PARTITION OF dds.weather\n",
    "    FOR VALUES FROM ('2024-03-20') TO ('2024-03-21');\n",
    "\n",
    "CREATE TABLE IF NOT EXISTS dds.weather_21 PARTITION OF dds.weather\n",
    "    FOR VALUES FROM ('2024-03-21') TO ('2024-03-22');\n",
    "\n",
    "CREATE TABLE IF NOT EXISTS dds.weather_22 PARTITION OF dds.weather\n",
    "    FOR VALUES FROM ('2024-03-22') TO ('2024-03-23');\n",
    "\n",
    "CREATE TABLE IF NOT EXISTS dds.weather_23 PARTITION OF dds.weather\n",
    "    FOR VALUES FROM ('2024-03-23') TO ('2024-03-24');\n",
    "\n",
    "CREATE TABLE IF NOT EXISTS dds.weather_24 PARTITION OF dds.weather\n",
    "    FOR VALUES FROM ('2024-03-24') TO ('2024-03-25');\n",
    "\"\"\""
   ]
  },
  {
   "cell_type": "code",
   "execution_count": 53,
   "id": "2e634e8f-b7bc-4d4e-a1a0-c1bd824a715d",
   "metadata": {},
   "outputs": [],
   "source": [
    "with create_connection() as conn:\n",
    "    with conn.cursor() as cur:\n",
    "\n",
    "        cur.execute(sql)\n",
    "\n",
    "        with open('../weather.csv', 'r') as f:\n",
    "            cur.copy_expert(f\"COPY dds.weather FROM STDIN WITH CSV HEADER DELIMITER ','\", f)\n",
    "\n",
    "        conn.commit()"
   ]
  },
  {
   "cell_type": "code",
   "execution_count": null,
   "id": "666fe7a1-d4ea-4127-bff0-1ffe9825cdc3",
   "metadata": {},
   "outputs": [],
   "source": []
  },
  {
   "cell_type": "code",
   "execution_count": null,
   "id": "35d3c66c-a9ec-4370-b1ae-901a08d6219d",
   "metadata": {},
   "outputs": [],
   "source": []
  },
  {
   "cell_type": "code",
   "execution_count": null,
   "id": "83372600-0bc3-4457-abc4-6ba135456a22",
   "metadata": {},
   "outputs": [],
   "source": []
  },
  {
   "cell_type": "code",
   "execution_count": null,
   "id": "2145034d-2ec1-49d1-924f-038b1d17345a",
   "metadata": {},
   "outputs": [],
   "source": [
    "# Используя таблицу с сырыми данными, необходимо собрать витрину, \n",
    "# где для каждого города и дня будут указаны часы начала дождя. \n",
    "# Условимся, что дождь может начаться только 1 раз за день в любом из городов.\n",
    "\n",
    "sql = \"\"\"SELECT city, \"date\", LAST_VALUE(\"hour\") OVER(PARTITION BY city, \n",
    "    \"date\" ORDER BY \"hour\" DESC RANGE BETWEEN UNBOUNDED PRECEDING AND UNBOUNDED FOLLOWING)\n",
    "FROM dds.weather w\n",
    "WHERE is_rainy IS TRUE;\"\"\""
   ]
  },
  {
   "cell_type": "code",
   "execution_count": null,
   "id": "281e497c-b25f-4eda-b6d3-bdce825fe2b3",
   "metadata": {},
   "outputs": [],
   "source": [
    "# Необходимо создать витрину, где для каждого города, \n",
    "# дня и часа будет рассчитано скользящее среднее по температуре и по давлению.\n",
    "\n",
    "sql = \"\"\"SELECT city, \"date\", \"hour\", AVG(temperature_c) OVER w moving_temp, AVG(pressure_mm) OVER w moving_press\n",
    "FROM dds.weather\n",
    "WINDOW w AS (\n",
    "\tPARTITION BY city\n",
    "\tORDER BY \"date\", \"hour\"\n",
    "\tROWS BETWEEN 1 PRECEDING AND 1 FOLLOWING\n",
    "\t)\n",
    "ORDER BY city, \"date\", \"hour\";\"\"\""
   ]
  }
 ],
 "metadata": {
  "kernelspec": {
   "display_name": "Python 3 (ipykernel)",
   "language": "python",
   "name": "python3"
  },
  "language_info": {
   "codemirror_mode": {
    "name": "ipython",
    "version": 3
   },
   "file_extension": ".py",
   "mimetype": "text/x-python",
   "name": "python",
   "nbconvert_exporter": "python",
   "pygments_lexer": "ipython3",
   "version": "3.10.12"
  }
 },
 "nbformat": 4,
 "nbformat_minor": 5
}
