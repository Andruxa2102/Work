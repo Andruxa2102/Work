{
 "cells": [
  {
   "cell_type": "code",
   "execution_count": null,
   "metadata": {
    "id": "jJaJpF1tF4ap"
   },
   "outputs": [],
   "source": [
    "import requests\n",
    "import json\n",
    "import pandas as pd\n",
    "from bs4 import BeautifulSoup\n",
    "import datetime\n",
    "from time import sleep"
   ]
  },
  {
   "cell_type": "code",
   "execution_count": null,
   "metadata": {},
   "outputs": [],
   "source": [
    "KEY = ''\n",
    "\n",
    "RESPONSE_504 = '<Response [504]>'\n",
    "\n",
    "df = pd.DataFrame(columns=('titles', 'publicationDates', 'abstracts', 'keywords'))\n",
    "batch_counter = range(427000, 742450, 100)"
   ]
  },
  {
   "cell_type": "code",
   "execution_count": null,
   "metadata": {
    "scrolled": false
   },
   "outputs": [],
   "source": [
    "for ii in batch_counter:\n",
    "    \n",
    "    while True:\n",
    "        response = requests.get('http://api.springernature.com/meta/v2/json', params={\n",
    "            's': ii,\n",
    "            'p': ii+99,\n",
    "            'q': 'year:2020',\n",
    "            'api_key': KEY})\n",
    "        \n",
    "        if str(response) == RESPONSE_504:\n",
    "            print('504 error, wait 30 seconds')\n",
    "            sleep(30)\n",
    "        else:\n",
    "            break\n",
    "        \n",
    "    js_dict = json.loads(response.text)\n",
    "\n",
    "    keywords = []\n",
    "    for i in js_dict['records']:\n",
    "        try:\n",
    "            att = i['keyword']\n",
    "        except KeyError:\n",
    "            keywords.append(['<No keywords>'])\n",
    "        else:\n",
    "            if isinstance(i['keyword'],list):\n",
    "                keywords.append(i['keyword'])\n",
    "            else:\n",
    "                keywords.append([i['keyword']])\n",
    "                \n",
    "    titles = [i['title'] for i in js_dict['records']]\n",
    "    publicationDates = [i['publicationDate'] for i in js_dict['records']]\n",
    "    abstracts = [i['abstract'] for i in js_dict['records']]\n",
    "    \n",
    "    temp_df = pd.DataFrame({'titles':titles, 'publicationDates':publicationDates, \\\n",
    "                            'abstracts':abstracts, 'keywords':keywords})\n",
    "    temp_df.index = range(ii, ii+100)\n",
    "    \n",
    "    df = pd.concat((df, temp_df), axis=0)\n",
    "    \n",
    "    print('step =', str(ii), 'time =', datetime.datetime.now().strftime(\"%m/%d/%Y, %H:%M:%S\"))\n",
    "\n",
    "print('Mining completed!!!')"
   ]
  },
  {
   "cell_type": "code",
   "execution_count": null,
   "metadata": {},
   "outputs": [],
   "source": [
    "df.to_parquet('mining.parquet')"
   ]
  }
 ],
 "metadata": {
  "colab": {
   "name": "Scopus_Scraping-Copy1.ipynb",
   "provenance": []
  },
  "kernelspec": {
   "display_name": "Python 3",
   "language": "python",
   "name": "python3"
  },
  "language_info": {
   "codemirror_mode": {
    "name": "ipython",
    "version": 3
   },
   "file_extension": ".py",
   "mimetype": "text/x-python",
   "name": "python",
   "nbconvert_exporter": "python",
   "pygments_lexer": "ipython3",
   "version": "3.8.5"
  }
 },
 "nbformat": 4,
 "nbformat_minor": 1
}
